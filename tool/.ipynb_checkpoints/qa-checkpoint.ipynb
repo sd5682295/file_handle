{
 "cells": [
  {
   "cell_type": "code",
   "execution_count": 3,
   "metadata": {},
   "outputs": [],
   "source": [
    "from lxml import html"
   ]
  },
  {
   "cell_type": "code",
   "execution_count": 4,
   "metadata": {},
   "outputs": [],
   "source": [
    "class xpath_tool_base(object):\n",
    "    def html_handle(self, html_data):\n",
    "        pass\n",
    "    def img_handle(self, img):\n",
    "        pass\n",
    "    def get_title(self, obj):\n",
    "        pass\n",
    "    def get_text(self, obj):\n",
    "        pass\n",
    "    def get_img(self, obj):\n",
    "        pass\n",
    "    def have_child(self, obj):\n",
    "        pass\n",
    "    def have_img(self, obj):\n",
    "        pass\n",
    "    def to_html(self):\n",
    "        pass\n",
    "    def get_pre(self):\n",
    "        pass\n",
    "    def get_color(self):\n",
    "        pass\n",
    "    def have_color(self):\n",
    "        pass\n",
    "    def data_clear(self):\n",
    "        pass"
   ]
  },
  {
   "cell_type": "code",
   "execution_count": 5,
   "metadata": {},
   "outputs": [],
   "source": [
    "class xpath_tool(xpath_tool_base):\n",
    "    def html_handle(self, html_data):\n",
    "        etree = html.etree\n",
    "        return etree.HTML(html_data)\n",
    "\n",
    "    def img_handle(self, img):\n",
    "        if img:\n",
    "            return [img[0].replace('https', 'http')]\n",
    "        return []\n",
    "    \n",
    "    def trim_data(self, obj, filter_data):\n",
    "        if filter_data:\n",
    "            return obj.replace(filter_data, '')\n",
    "        return obj.replace(' ', '')\n",
    "        \n",
    "\n",
    "    def get_title(self, obj, filter_data):\n",
    "        return obj.xpath('//title/text()').replace(filter_data, '')\n",
    "\n",
    "    def get_text(self, obj):\n",
    "        return obj.xpath('./text()')\n",
    "\n",
    "    def get_img(self, obj):\n",
    "        return self.img_handle(obj.xpath('../div/img/@src'))\n",
    "\n",
    "    def have_child(self, obj):\n",
    "        return len(self.obj.xpath('../ul'))\n",
    "\n",
    "    def have_img(self, obj):\n",
    "        return len(self.get_img(obj))\n",
    "\n",
    "    def list_data_handle(self, data):\n",
    "        if(type(data) == list):\n",
    "            data = data[0]\n",
    "        data = data.replace(' ', '')\n",
    "        return data\n",
    "        \n",
    "    def to_html(self, text, img):\n",
    "        text = self.list_data_handle(text)\n",
    "        text = self.list_data_handle(img)\n",
    "        return '<p>{}</p><img src={} />'.format(text, img)\n",
    "\n",
    "    def get_pre(self, obj):\n",
    "        this_node = obj\n",
    "        while this_node.xpath('../../../span/@color') == [\"#3da8f5\"]:\n",
    "            if self.pre == '':\n",
    "                tg = ''\n",
    "            else:\n",
    "                tg = '/'\n",
    "            self.pre = this_node.xpath('../../../span/text()')[0] + tg + self.pre\n",
    "            this_node = this_node.xpath('../../../span')[0]\n",
    "        if self.pre != '':\n",
    "            return ('[{}]'.format(self.pre))\n",
    "        return ''\n",
    "\n",
    "\n",
    "    def get_color(self):\n",
    "        pass\n",
    "\n",
    "    def have_color(self):\n",
    "        pass\n",
    "\n",
    "    def data_clear(self):\n",
    "        pass"
   ]
  },
  {
   "cell_type": "code",
   "execution_count": 6,
   "metadata": {},
   "outputs": [],
   "source": [
    "xt = xpath_tool()"
   ]
  },
  {
   "cell_type": "code",
   "execution_count": 13,
   "metadata": {},
   "outputs": [],
   "source": [
    " with open('../html/测试方法和流程拆分出的内容.html', 'r', encoding='utf-8') as f:\n",
    "            html_data = f.read()"
   ]
  },
  {
   "cell_type": "code",
   "execution_count": 14,
   "metadata": {},
   "outputs": [],
   "source": [
    "html_data = xt.html_handle(html_data)"
   ]
  },
  {
   "cell_type": "code",
   "execution_count": 15,
   "metadata": {},
   "outputs": [
    {
     "data": {
      "text/plain": [
       "['测试方法和流程拆分出的内容  - 幕布']"
      ]
     },
     "execution_count": 15,
     "metadata": {},
     "output_type": "execute_result"
    }
   ],
   "source": [
    "xt.get_title(html_data)"
   ]
  },
  {
   "cell_type": "code",
   "execution_count": null,
   "metadata": {},
   "outputs": [],
   "source": []
  }
 ],
 "metadata": {
  "kernelspec": {
   "display_name": "Python 3",
   "language": "python",
   "name": "python3"
  },
  "language_info": {
   "codemirror_mode": {
    "name": "ipython",
    "version": 3
   },
   "file_extension": ".py",
   "mimetype": "text/x-python",
   "name": "python",
   "nbconvert_exporter": "python",
   "pygments_lexer": "ipython3",
   "version": "3.7.3"
  }
 },
 "nbformat": 4,
 "nbformat_minor": 2
}
