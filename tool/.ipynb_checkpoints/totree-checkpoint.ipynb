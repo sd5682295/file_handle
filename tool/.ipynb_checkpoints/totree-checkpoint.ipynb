{
 "cells": [
  {
   "cell_type": "code",
   "execution_count": 39,
   "metadata": {},
   "outputs": [],
   "source": [
    "import copy"
   ]
  },
  {
   "cell_type": "code",
   "execution_count": 40,
   "metadata": {
    "scrolled": true
   },
   "outputs": [
    {
     "data": {
      "text/plain": [
       "[{'pid': '0', 'id': 'a', 'value': '陕西'},\n",
       " {'pid': 'a', 'id': '01', 'value': '西安'},\n",
       " {'pid': '01', 'id': '301', 'value': '雁塔区'},\n",
       " {'pid': '01', 'id': '302', 'value': '高新区'},\n",
       " {'pid': 'a', 'id': '02', 'value': '渭南'},\n",
       " {'pid': 'a', 'id': '03', 'value': '咸阳'},\n",
       " {'pid': '0', 'id': 'b', 'value': '广东'},\n",
       " {'pid': 'b', 'id': '11', 'value': '广州'},\n",
       " {'pid': 'b', 'id': '12', 'value': '深圳'},\n",
       " {'pid': 'b', 'id': '13', 'value': '潮汕'},\n",
       " {'pid': '0', 'id': 'c', 'value': '湖南'},\n",
       " {'pid': 'c', 'id': '21', 'value': '长沙'},\n",
       " {'pid': 'c', 'id': '22', 'value': '常德'},\n",
       " {'pid': 'c', 'id': '23', 'value': '岳阳'}]"
      ]
     },
     "execution_count": 40,
     "metadata": {},
     "output_type": "execute_result"
    }
   ],
   "source": [
    "datas=[\n",
    "{'pid':'0','id':'a','value':'陕西'},\n",
    "\t{'pid':'a','id':'01','value':'西安'},\n",
    "\t\t{'pid':'01','id':'301','value':'雁塔区'},\n",
    "\t\t{'pid':'01','id':'302','value':'高新区'},\n",
    "\t{'pid':'a','id':'02','value':'渭南'},\n",
    "\t{'pid':'a','id':'03','value':'咸阳'},\n",
    "{'pid':'0','id':'b','value':'广东'},\n",
    "\t{'pid':'b','id':'11','value':'广州'},\n",
    "\t{'pid':'b','id':'12','value':'深圳'},\n",
    "\t{'pid':'b','id':'13','value':'潮汕'},\n",
    "{'pid':'0','id':'c','value':'湖南'},\n",
    "\t{'pid':'c','id':'21','value':'长沙'},\n",
    "\t{'pid':'c','id':'22','value':'常德'},\n",
    "\t{'pid':'c','id':'23','value':'岳阳'},\n",
    "];\n",
    "datas\n"
   ]
  },
  {
   "cell_type": "code",
   "execution_count": 41,
   "metadata": {},
   "outputs": [],
   "source": [
    "clonedatas = copy.deepcopy(datas)"
   ]
  },
  {
   "cell_type": "code",
   "execution_count": 42,
   "metadata": {},
   "outputs": [
    {
     "data": {
      "text/plain": [
       "[{'pid': '0',\n",
       "  'id': 'a',\n",
       "  'value': '陕西',\n",
       "  'children': [{'pid': 'a',\n",
       "    'id': '01',\n",
       "    'value': '西安',\n",
       "    'children': [{'pid': '01', 'id': '301', 'value': '雁塔区'},\n",
       "     {'pid': '01', 'id': '302', 'value': '高新区'}]},\n",
       "   {'pid': 'a', 'id': '02', 'value': '渭南'},\n",
       "   {'pid': 'a', 'id': '03', 'value': '咸阳'}]},\n",
       " {'pid': 'a',\n",
       "  'id': '01',\n",
       "  'value': '西安',\n",
       "  'children': [{'pid': '01', 'id': '301', 'value': '雁塔区'},\n",
       "   {'pid': '01', 'id': '302', 'value': '高新区'}]},\n",
       " {'pid': '01', 'id': '301', 'value': '雁塔区'},\n",
       " {'pid': '01', 'id': '302', 'value': '高新区'},\n",
       " {'pid': 'a', 'id': '02', 'value': '渭南'},\n",
       " {'pid': 'a', 'id': '03', 'value': '咸阳'},\n",
       " {'pid': '0',\n",
       "  'id': 'b',\n",
       "  'value': '广东',\n",
       "  'children': [{'pid': 'b', 'id': '11', 'value': '广州'},\n",
       "   {'pid': 'b', 'id': '12', 'value': '深圳'},\n",
       "   {'pid': 'b', 'id': '13', 'value': '潮汕'}]},\n",
       " {'pid': 'b', 'id': '11', 'value': '广州'},\n",
       " {'pid': 'b', 'id': '12', 'value': '深圳'},\n",
       " {'pid': 'b', 'id': '13', 'value': '潮汕'},\n",
       " {'pid': '0',\n",
       "  'id': 'c',\n",
       "  'value': '湖南',\n",
       "  'children': [{'pid': 'c', 'id': '21', 'value': '长沙'},\n",
       "   {'pid': 'c', 'id': '22', 'value': '常德'},\n",
       "   {'pid': 'c', 'id': '23', 'value': '岳阳'}]},\n",
       " {'pid': 'c', 'id': '21', 'value': '长沙'},\n",
       " {'pid': 'c', 'id': '22', 'value': '常德'},\n",
       " {'pid': 'c', 'id': '23', 'value': '岳阳'}]"
      ]
     },
     "execution_count": 42,
     "metadata": {},
     "output_type": "execute_result"
    }
   ],
   "source": [
    "\n",
    "for i in range(len(datas)):\n",
    "    children = []\n",
    "    \n",
    "    for j in datas:\n",
    "#         print(j,datas[i],i)\n",
    "        if j['pid'] == datas[i]['id']:\n",
    "            children.append(j)\n",
    "    if len(children)>0:\n",
    "        datas[i]['children']=children\n",
    "    \n",
    "        \n",
    "datas\n",
    "        \n",
    "    "
   ]
  },
  {
   "cell_type": "code",
   "execution_count": 44,
   "metadata": {},
   "outputs": [
    {
     "data": {
      "text/plain": [
       "[{'pid': '0',\n",
       "  'id': 'a',\n",
       "  'value': '陕西',\n",
       "  'children': [{'pid': 'a',\n",
       "    'id': '01',\n",
       "    'value': '西安',\n",
       "    'children': [{'pid': '01', 'id': '301', 'value': '雁塔区'},\n",
       "     {'pid': '01', 'id': '302', 'value': '高新区'}]},\n",
       "   {'pid': 'a', 'id': '02', 'value': '渭南'},\n",
       "   {'pid': 'a', 'id': '03', 'value': '咸阳'}]},\n",
       " {'pid': '0',\n",
       "  'id': 'b',\n",
       "  'value': '广东',\n",
       "  'children': [{'pid': 'b', 'id': '11', 'value': '广州'},\n",
       "   {'pid': 'b', 'id': '12', 'value': '深圳'},\n",
       "   {'pid': 'b', 'id': '13', 'value': '潮汕'}]},\n",
       " {'pid': '0',\n",
       "  'id': 'c',\n",
       "  'value': '湖南',\n",
       "  'children': [{'pid': 'c', 'id': '21', 'value': '长沙'},\n",
       "   {'pid': 'c', 'id': '22', 'value': '常德'},\n",
       "   {'pid': 'c', 'id': '23', 'value': '岳阳'}]}]"
      ]
     },
     "execution_count": 44,
     "metadata": {},
     "output_type": "execute_result"
    }
   ],
   "source": [
    "[data for data in datas if data['pid']=='0' ]"
   ]
  },
  {
   "cell_type": "code",
   "execution_count": 47,
   "metadata": {},
   "outputs": [],
   "source": [
    "\n",
    "def toTree(datas):\n",
    "    for i in range(len(datas)):\n",
    "        children = []\n",
    "    \n",
    "        for j in datas:\n",
    "#         print(j,datas[i],i)\n",
    "            if j['pid'] == datas[i]['id']:\n",
    "                children.append(j)\n",
    "        if len(children)>0:\n",
    "            datas[i]['children']=children\n",
    "    return [data for data in datas if data['pid']=='0' ]\n"
   ]
  },
  {
   "cell_type": "code",
   "execution_count": 48,
   "metadata": {},
   "outputs": [
    {
     "data": {
      "text/plain": [
       "[{'pid': '0',\n",
       "  'id': 'a',\n",
       "  'value': '陕西',\n",
       "  'children': [{'pid': 'a',\n",
       "    'id': '01',\n",
       "    'value': '西安',\n",
       "    'children': [{'pid': '01', 'id': '301', 'value': '雁塔区'},\n",
       "     {'pid': '01', 'id': '302', 'value': '高新区'}]},\n",
       "   {'pid': 'a', 'id': '02', 'value': '渭南'},\n",
       "   {'pid': 'a', 'id': '03', 'value': '咸阳'}]},\n",
       " {'pid': '0',\n",
       "  'id': 'b',\n",
       "  'value': '广东',\n",
       "  'children': [{'pid': 'b', 'id': '11', 'value': '广州'},\n",
       "   {'pid': 'b', 'id': '12', 'value': '深圳'},\n",
       "   {'pid': 'b', 'id': '13', 'value': '潮汕'}]},\n",
       " {'pid': '0',\n",
       "  'id': 'c',\n",
       "  'value': '湖南',\n",
       "  'children': [{'pid': 'c', 'id': '21', 'value': '长沙'},\n",
       "   {'pid': 'c', 'id': '22', 'value': '常德'},\n",
       "   {'pid': 'c', 'id': '23', 'value': '岳阳'}]}]"
      ]
     },
     "execution_count": 48,
     "metadata": {},
     "output_type": "execute_result"
    }
   ],
   "source": [
    "toTree(datas)"
   ]
  }
 ],
 "metadata": {
  "kernelspec": {
   "display_name": "Python 3",
   "language": "python",
   "name": "python3"
  },
  "language_info": {
   "codemirror_mode": {
    "name": "ipython",
    "version": 3
   },
   "file_extension": ".py",
   "mimetype": "text/x-python",
   "name": "python",
   "nbconvert_exporter": "python",
   "pygments_lexer": "ipython3",
   "version": "3.7.3"
  }
 },
 "nbformat": 4,
 "nbformat_minor": 2
}
