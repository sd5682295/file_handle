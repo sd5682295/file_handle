{
 "cells": [
  {
   "cell_type": "code",
   "execution_count": 47,
   "metadata": {},
   "outputs": [],
   "source": [
    "data = []"
   ]
  },
  {
   "cell_type": "code",
   "execution_count": 48,
   "metadata": {},
   "outputs": [],
   "source": [
    "with open('Django 如何处理一个请求.md', 'r', encoding = 'utf-8') as f:\n",
    "    f_lines = f.readlines()"
   ]
  },
  {
   "cell_type": "code",
   "execution_count": 49,
   "metadata": {},
   "outputs": [],
   "source": [
    "for line in f_lines:\n",
    "    if line == \"\\n\":\n",
    "        continue\n",
    "    line = line.strip(\"\\n\")\n",
    "    if \"=>\" in line:\n",
    "        data.append(line)"
   ]
  },
  {
   "cell_type": "code",
   "execution_count": null,
   "metadata": {},
   "outputs": [],
   "source": [
    "class toolBase(object):\n",
    "    def get_data(path)"
   ]
  },
  {
   "cell_type": "code",
   "execution_count": 58,
   "metadata": {},
   "outputs": [],
   "source": [
    "import os\n",
    "from collections import Iterator\n",
    "\n",
    "class tool_base():\n",
    "    exists = os.path.exists\n",
    "    def get_file_list(self, file_type, file_path):\n",
    "        pass\n",
    "    def create_dir(self):\n",
    "        pass\n",
    "    def watch_data(self):\n",
    "        pass\n",
    "\n",
    "class dir_tool(tool_base):\n",
    "    def tou_wei_handle(self, root, file):\n",
    "        root = root.replace('\\\\', '/').replace('./.', './')\n",
    "        if root.endswith('/') is False:\n",
    "            root += '/'  # 处理部分root不以/结尾-----------直接+'/'\n",
    "        return root + file  # 产生地址+名称的迭代器\n",
    "\n",
    "    def get_file_list(self, file_path='./', file_type=None):\n",
    "        if file_path != './' and dir_tool.exists(file_path) == False:\n",
    "            return False\n",
    "        tree = [(root, dirs, files) for root, dirs, files in\n",
    "                os.walk(file_path, topdown=False)]  # 从path地址遍历出所有内容------遍历文件夹，将所有内容以<路径、地址、文件名>元组列的方式赋值给tree\n",
    "        clear_datas = [(root, dirs, files) for root, dirs, files in tree if\n",
    "                       len(files) != 0 and '\\\\.' not in root]  # 提取从根目录角度的文件树------路径处理'/',同时清理空目录以及内部文件\n",
    "        for clear_data in clear_datas:  # 遍历出所有单个内容\n",
    "            for file in clear_data[2]:\n",
    "                if file_type == None:\n",
    "                    yield self.tou_wei_handle(clear_data[0], file)\n",
    "                elif file.endswith(file_type):  # 筛选出结尾是html的文件\n",
    "                    yield self.tou_wei_handle(clear_data[0], file)\n",
    "                else:\n",
    "                    continue\n",
    "\n",
    "    def create_dir(self, path, new_dir):\n",
    "        if dir_tool.exists('{}{}'.format(path, new_dir)):\n",
    "            print('{}{}'.format(path, new_dir))\n",
    "            return '{}{}'.format(path, new_dir)\n",
    "        else:\n",
    "            os.mkdir('{}{}'.format(path, new_dir))\n",
    "            print('{}{}'.format(path, new_dir))\n",
    "            return '{}{}'.format(path, new_dir)\n",
    "\n",
    "    def watch_data(self, data=None):\n",
    "        if isinstance(data, Iterator):\n",
    "            return [_ for _ in data]\n",
    "        return data"
   ]
  },
  {
   "cell_type": "code",
   "execution_count": 71,
   "metadata": {},
   "outputs": [],
   "source": [
    "dt = dir_tool()"
   ]
  },
  {
   "cell_type": "code",
   "execution_count": 72,
   "metadata": {},
   "outputs": [],
   "source": [
    "file_list = dt.get_file_list(file_type='md')"
   ]
  },
  {
   "cell_type": "code",
   "execution_count": 73,
   "metadata": {},
   "outputs": [
    {
     "data": {
      "text/plain": [
       "['./Django 如何处理一个请求.md']"
      ]
     },
     "execution_count": 73,
     "metadata": {},
     "output_type": "execute_result"
    }
   ],
   "source": [
    "dt.watch_data(file_list)"
   ]
  },
  {
   "cell_type": "code",
   "execution_count": 64,
   "metadata": {},
   "outputs": [],
   "source": [
    "class IO_base(object):\n",
    "    def read_file(path, my_filter):\n",
    "        pass\n",
    "    def out_put(path, data):\n",
    "        pass\n",
    "    \n",
    "class IO(IO_base):\n",
    "    def read_file(path, my_filter=False):\n",
    "        with open(path, 'r', encoding = 'utf-8') as f:\n",
    "            f_lines = f.readlines()\n",
    "        if my_filter == False:\n",
    "            return [line for line in f_lines]\n",
    "        else:\n",
    "             return [line for line in f_lines if my_filter in line]\n",
    "            \n",
    "    def out_put(path, data):\n",
    "        with open(path, 'w', encoding='utf-8') as f:\n",
    "            f.write(data)"
   ]
  },
  {
   "cell_type": "code",
   "execution_count": null,
   "metadata": {},
   "outputs": [],
   "source": [
    "class IO_handle(IO, dir_tool, file_type):\n",
    "    def __init__(input_path,output_path):\n",
    "        self.input_path = input_path\n",
    "        self.output_path = output_path\n",
    "        self.file_type = 'md'\n",
    "    def __create_dir_handle()：\n",
    "        self.create_dir('', self.input_path)\n",
    "        self.create_dir('', self.output_path)\n",
    "    def create_dir_handle():\n",
    "        return self.__create_dir_handle()\n",
    "    def __get_file_list():\n",
    "        self.get_file_list"
   ]
  }
 ],
 "metadata": {
  "kernelspec": {
   "display_name": "Python 3",
   "language": "python",
   "name": "python3"
  },
  "language_info": {
   "codemirror_mode": {
    "name": "ipython",
    "version": 3.0
   },
   "file_extension": ".py",
   "mimetype": "text/x-python",
   "name": "python",
   "nbconvert_exporter": "python",
   "pygments_lexer": "ipython3",
   "version": "3.7.3"
  }
 },
 "nbformat": 4,
 "nbformat_minor": 0
}