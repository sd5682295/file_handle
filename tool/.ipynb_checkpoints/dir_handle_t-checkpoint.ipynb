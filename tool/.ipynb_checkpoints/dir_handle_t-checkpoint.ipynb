{
 "cells": [
  {
   "cell_type": "code",
   "execution_count": 40,
   "metadata": {},
   "outputs": [],
   "source": [
    "import os\n",
    "from collections import Iterator"
   ]
  },
  {
   "cell_type": "code",
   "execution_count": 41,
   "metadata": {},
   "outputs": [],
   "source": [
    "class tool_base():\n",
    "    exists = os.path.exists\n",
    "    def get_file_list(self, file_type, file_path):\n",
    "        pass\n",
    "    def create_dir(self):\n",
    "        pass\n",
    "    def watch_data(self):\n",
    "        pass"
   ]
  },
  {
   "cell_type": "code",
   "execution_count": 46,
   "metadata": {},
   "outputs": [],
   "source": [
    "class dir_tool(tool_base):\n",
    "    def tou_wei_handle(self, root, file):\n",
    "        root = root.replace('\\\\','/').replace('./.', './')\n",
    "        if root.endswith('/') is False:\n",
    "            root += '/'         # 处理部分root不以/结尾-----------直接+'/'\n",
    "        \n",
    "        return root + file       # 产生地址+名称的迭代器\n",
    "        \n",
    "    def get_file_list(self, file_path='./', file_type=None):\n",
    "        if file_path!='./' and dir_tool.exists(file_path)==False:\n",
    "            return False\n",
    "        tree = [(root, dirs, files) for root, dirs, files in\n",
    "                os.walk(file_path, topdown=False)]                                                                      # 从path地址遍历出所有内容------遍历文件夹，将所有内容以<路径、地址、文件名>元组列的方式赋值给tree\n",
    "        clear_datas = [(root, dirs, files) for root, dirs, files in tree if\n",
    "                       len(files) != 0 and '\\\\.' not in root]       # 提取从根目录角度的文件树------路径处理'/',同时清理空目录以及内部文件\n",
    "        for clear_data in clear_datas:        # 遍历出所有单个内容\n",
    "            for file in clear_data[2]: \n",
    "                if file_type == None:\n",
    "                    yield self.tou_wei_handle(clear_data[0], file)                    \n",
    "                elif file.endswith(file_type):   # 筛选出结尾是html的文件\n",
    "                   yield self.tou_wei_handle(clear_data[0], file)\n",
    "                else:\n",
    "                    continue\n",
    "\n",
    "    def create_dir(self, path, new_dir):\n",
    "        if dir_tool.exists('{}{}'.format(path, new_dir)):\n",
    "            print('{}{}'.format(path, new_dir))\n",
    "            return '{}{}'.format(path, new_dir)\n",
    "        else:\n",
    "            os.mkdir('{}{}'.format(path, new_dir))\n",
    "            print('{}{}'.format(path, new_dir))\n",
    "            return '{}{}'.format(path, new_dir)\n",
    "    def watch_data(self, data=None):\n",
    "        if isinstance(data, Iterator):\n",
    "            return [_ for _ in data]\n",
    "        return data\n",
    "        "
   ]
  },
  {
   "cell_type": "code",
   "execution_count": 47,
   "metadata": {},
   "outputs": [],
   "source": [
    "DT = dir_tool()\n",
    "file_list = DT.get_file_list('./html/', '.html')"
   ]
  },
  {
   "cell_type": "code",
   "execution_count": 48,
   "metadata": {},
   "outputs": [
    {
     "data": {
      "text/plain": [
       "['./html/测试方法和流程拆分出的内容.html']"
      ]
     },
     "execution_count": 48,
     "metadata": {},
     "output_type": "execute_result"
    }
   ],
   "source": [
    "DT.watch_data(file_list)"
   ]
  },
  {
   "cell_type": "code",
   "execution_count": 51,
   "metadata": {},
   "outputs": [
    {
     "name": "stdout",
     "output_type": "stream",
     "text": [
      "开始\n",
      "css已经存在\n"
     ]
    },
    {
     "data": {
      "text/plain": [
       "'css已经存在'"
      ]
     },
     "execution_count": 51,
     "metadata": {},
     "output_type": "execute_result"
    }
   ],
   "source": [
    "DT.create_dir('../','css')"
   ]
  },
  {
   "cell_type": "code",
   "execution_count": null,
   "metadata": {},
   "outputs": [],
   "source": []
  },
  {
   "cell_type": "code",
   "execution_count": null,
   "metadata": {},
   "outputs": [],
   "source": []
  }
 ],
 "metadata": {
  "kernelspec": {
   "display_name": "Python 3",
   "language": "python",
   "name": "python3"
  },
  "language_info": {
   "codemirror_mode": {
    "name": "ipython",
    "version": 3
   },
   "file_extension": ".py",
   "mimetype": "text/x-python",
   "name": "python",
   "nbconvert_exporter": "python",
   "pygments_lexer": "ipython3",
   "version": "3.7.3"
  }
 },
 "nbformat": 4,
 "nbformat_minor": 2
}
